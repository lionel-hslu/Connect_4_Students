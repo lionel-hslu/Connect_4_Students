{
 "cells": [
  {
   "cell_type": "code",
   "execution_count": 1,
   "metadata": {},
   "outputs": [],
   "source": [
    "import random"
   ]
  },
  {
   "cell_type": "code",
   "execution_count": 6,
   "metadata": {},
   "outputs": [],
   "source": [
    "def check_self(col,score):\n",
    "    score = random.randint(5,50)\n",
    "    return score"
   ]
  },
  {
   "cell_type": "code",
   "execution_count": 8,
   "metadata": {},
   "outputs": [
    {
     "name": "stdout",
     "output_type": "stream",
     "text": [
      "[[0, 8], [1, 23], [2, 27], [3, 35], [4, 36], [5, 36], [6, 46], [7, 43]]\n"
     ]
    }
   ],
   "source": [
    "col_list = [[i, 0] for i in range(8)]\n",
    "            \n",
    "for entry in col_list:\n",
    "    col = entry[0]\n",
    "    score = entry[1]\n",
    "    entry[1] = check_self(col,score)\n",
    "\n",
    "print(col_list)\n",
    "                "
   ]
  }
 ],
 "metadata": {
  "kernelspec": {
   "display_name": "Python 3",
   "language": "python",
   "name": "python3"
  },
  "language_info": {
   "codemirror_mode": {
    "name": "ipython",
    "version": 3
   },
   "file_extension": ".py",
   "mimetype": "text/x-python",
   "name": "python",
   "nbconvert_exporter": "python",
   "pygments_lexer": "ipython3",
   "version": "3.12.8"
  }
 },
 "nbformat": 4,
 "nbformat_minor": 2
}
