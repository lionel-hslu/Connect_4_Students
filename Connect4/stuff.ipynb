{
 "cells": [
  {
   "cell_type": "code",
   "execution_count": 1,
   "metadata": {},
   "outputs": [],
   "source": [
    "import random"
   ]
  },
  {
   "cell_type": "code",
   "execution_count": 6,
   "metadata": {},
   "outputs": [],
   "source": [
    "def check_self(col,score):\n",
    "    score = random.randint(5,50)\n",
    "    return score"
   ]
  },
  {
   "cell_type": "code",
   "execution_count": 3,
   "metadata": {},
   "outputs": [
    {
     "name": "stdout",
     "output_type": "stream",
     "text": [
      "9\n"
     ]
    }
   ],
   "source": [
    "score = []\n",
    "score.append(5)\n",
    "score.append(4)\n",
    "print(sum(score))\n"
   ]
  },
  {
   "cell_type": "code",
   "execution_count": 2,
   "metadata": {},
   "outputs": [
    {
     "name": "stdout",
     "output_type": "stream",
     "text": [
      "0 [1, 2, 3]\n"
     ]
    }
   ],
   "source": [
    "from multiprocessing import Process, Value, Array\n",
    "\n",
    "def increment(shared_value, shared_array):\n",
    "    shared_value.value += 1\n",
    "    for i in range(len(shared_array)):\n",
    "        shared_array[i] += 1\n",
    "\n",
    "if __name__ == \"__main__\":\n",
    "    shared_value = Value('i', 0)\n",
    "    shared_array = Array('i', [1, 2, 3])\n",
    "    process = Process(target=increment, args=(shared_value, shared_array))\n",
    "    process.start()\n",
    "    process.join()\n",
    "    print(shared_value.value, list(shared_array))"
   ]
  },
  {
   "cell_type": "code",
   "execution_count": 14,
   "metadata": {},
   "outputs": [],
   "source": [
    "def detect_win(board)->bool:\n",
    "    \"\"\" \n",
    "    Detect if someone has won the game (4 consecutive same pieces).\n",
    "    \n",
    "    Returns:\n",
    "        True if there's a winner, False otherwise\n",
    "    \"\"\"    \n",
    "    # Define convolution kernels for detecting a win condition\n",
    "    horizontal_group = np.array([[1, 1, 1, 1]])\n",
    "    vertical_group = np.array([[1], [1], [1], [1]])\n",
    "    diag_down_group = np.eye(4, dtype=int)  # Top-left to bottom-right\n",
    "    diag_up_group = np.flipud(diag_down_group)  # Bottom-left to top-right\n",
    "\n",
    "    # Check for each player if there's a winning condition\n",
    "    for player_to_check in [\"X\", \"O\"]:\n",
    "        player_board = (board == player_to_check).astype(int)\n",
    "\n",
    "        # Check all directions using convolution for 4 in a row\n",
    "        if (convolve(player_board, horizontal_group, mode=\"constant\", cval=0) == 4).any():\n",
    "            return 1\n",
    "        if (convolve(player_board, vertical_group, mode=\"constant\", cval=0) == 4).any():\n",
    "            return 2\n",
    "        if (convolve(player_board, diag_down_group, mode=\"constant\", cval=0) == 4).any():\n",
    "            return 3\n",
    "        if (convolve(player_board, diag_up_group, mode=\"constant\", cval=0) == 4).any():\n",
    "            return 4\n",
    "\n",
    "    # Return False if no win condition is found for either player\n",
    "    return False\n"
   ]
  },
  {
   "cell_type": "code",
   "execution_count": 15,
   "metadata": {},
   "outputs": [
    {
     "name": "stdout",
     "output_type": "stream",
     "text": [
      "1\n"
     ]
    }
   ],
   "source": [
    "from move_class import MoveEvaluator\n",
    "import numpy as np\n",
    "from scipy.ndimage import convolve\n",
    "\n",
    "board = np.array([\n",
    "    ['','','','','X','','',''],\n",
    "    ['','','','X','O','X','',''],\n",
    "    ['','','','X','O','X','',''],\n",
    "    ['','','X','O','O','O','',''],\n",
    "    ['','','O','O','X','O','O',''],\n",
    "    ['','','X','X','X','O','X',''],\n",
    "    ['O','','O','X','X','X','O','']\n",
    "    ])\n",
    "\n",
    "print(detect_win(board))"
   ]
  },
  {
   "cell_type": "code",
   "execution_count": 8,
   "metadata": {},
   "outputs": [
    {
     "name": "stdout",
     "output_type": "stream",
     "text": [
      "[[0, 8], [1, 23], [2, 27], [3, 35], [4, 36], [5, 36], [6, 46], [7, 43]]\n"
     ]
    }
   ],
   "source": [
    "col_list = [[i, 0] for i in range(8)]\n",
    "            \n",
    "for entry in col_list:\n",
    "    col = entry[0]\n",
    "    score = entry[1]\n",
    "    entry[1] = check_self(col,score)\n",
    "\n",
    "print(col_list)\n",
    "                "
   ]
  }
 ],
 "metadata": {
  "kernelspec": {
   "display_name": "Python 3",
   "language": "python",
   "name": "python3"
  },
  "language_info": {
   "codemirror_mode": {
    "name": "ipython",
    "version": 3
   },
   "file_extension": ".py",
   "mimetype": "text/x-python",
   "name": "python",
   "nbconvert_exporter": "python",
   "pygments_lexer": "ipython3",
   "version": "3.12.8"
  }
 },
 "nbformat": 4,
 "nbformat_minor": 2
}
